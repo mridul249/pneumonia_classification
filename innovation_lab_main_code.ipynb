{
  "nbformat": 4,
  "nbformat_minor": 0,
  "metadata": {
    "colab": {
      "provenance": [],
      "collapsed_sections": [
        "tTI3DUFUgeEU",
        "u5dMEusqg_S8",
        "D763ONb9hHoG",
        "T3PSzm5timpw",
        "-xORk4e1ivdm",
        "xKwOoLOEi49S",
        "T2OfyPVrjSBU",
        "l5ktPmFajaO3",
        "lAENFdhXjkHX",
        "9lVwRxdoj1mh",
        "vL2L5CCTj5ga",
        "tkFYMpkqj9ex",
        "TCFkgW7_kCIj",
        "jMi4ZGFcl5Bl",
        "yY6HVKf-l9J6",
        "-RA-qqTmmDxK",
        "mwTIPtsKmKir",
        "huWMV5VJmUSr",
        "wJkGtB4-mbUV",
        "HfzJSH_nmhTQ",
        "gDxGLI_dmmQy",
        "AW3r2ctEmo5A",
        "ojYglTKrmstH",
        "aCOYU9wQm0Za"
      ],
      "gpuType": "T4"
    },
    "kernelspec": {
      "name": "python3",
      "display_name": "Python 3"
    },
    "language_info": {
      "name": "python"
    },
    "accelerator": "GPU"
  },
  "cells": [
    {
      "cell_type": "markdown",
      "source": [
        "\n",
        "# 1. Import Libraries"
      ],
      "metadata": {
        "id": "tTI3DUFUgeEU"
      }
    },
    {
      "cell_type": "code",
      "execution_count": 1,
      "metadata": {
        "id": "qqVjKFlTWWJa"
      },
      "outputs": [],
      "source": [
        "import os\n",
        "import numpy as np\n",
        "import cv2\n",
        "import torch\n",
        "import torch.nn as nn\n",
        "from torch.utils.data import Dataset, DataLoader\n",
        "import tensorflow as tf\n",
        "from sklearn.preprocessing import LabelEncoder\n",
        "from tensorflow.keras.utils import to_categorical\n",
        "from tensorflow.keras import layers, models\n",
        "import matplotlib.pyplot as plt\n",
        "import pickle\n",
        "import random\n",
        "from tqdm import tqdm\n"
      ]
    },
    {
      "cell_type": "markdown",
      "source": [
        "# 2. Mount Google Drive"
      ],
      "metadata": {
        "id": "u5dMEusqg_S8"
      }
    },
    {
      "cell_type": "code",
      "source": [
        "# Mount Google Drive\n",
        "from google.colab import drive\n",
        "drive.mount('/content/drive')\n"
      ],
      "metadata": {
        "colab": {
          "base_uri": "https://localhost:8080/"
        },
        "id": "WTkns1VvdHI7",
        "outputId": "96bdaae1-9692-4305-dc92-a982eb0deb82"
      },
      "execution_count": 2,
      "outputs": [
        {
          "output_type": "stream",
          "name": "stdout",
          "text": [
            "Mounted at /content/drive\n"
          ]
        }
      ]
    },
    {
      "cell_type": "markdown",
      "source": [
        "#3. Dataset Preparation"
      ],
      "metadata": {
        "id": "D763ONb9hHoG"
      }
    },
    {
      "cell_type": "code",
      "source": [
        "# Set the dataset directory path\n",
        "dataset_dir = '/content/drive/My Drive/chest_xray'\n",
        "\n"
      ],
      "metadata": {
        "id": "tYkLNiINgFg_"
      },
      "execution_count": 3,
      "outputs": []
    },
    {
      "cell_type": "markdown",
      "source": [
        "## Verify Dataset Structure"
      ],
      "metadata": {
        "id": "T3PSzm5timpw"
      }
    },
    {
      "cell_type": "code",
      "source": [
        "# Verify the dataset structure\n",
        "import os\n",
        "\n",
        "def verify_dataset_structure(dataset_dir):\n",
        "    required_dirs = ['train', 'val', 'test']\n",
        "    for dir_name in required_dirs:\n",
        "        dir_path = os.path.join(dataset_dir, dir_name)\n",
        "        if not os.path.exists(dir_path):\n",
        "            print(f\"Directory {dir_path} does not exist.\")\n",
        "            return False\n",
        "        for class_name in ['NORMAL', 'PNEUMONIA']:\n",
        "            class_dir = os.path.join(dir_path, class_name)\n",
        "            if not os.path.exists(class_dir):\n",
        "                print(f\"Directory {class_dir} does not exist.\")\n",
        "                return False\n",
        "    print(\"Dataset structure is correct.\")\n",
        "    return True\n",
        "\n",
        "verify_dataset_structure(dataset_dir)\n"
      ],
      "metadata": {
        "colab": {
          "base_uri": "https://localhost:8080/"
        },
        "id": "bj0fuhpkgH3B",
        "outputId": "e6527a6b-15e9-42b2-fa4b-87559fa148ae"
      },
      "execution_count": 4,
      "outputs": [
        {
          "output_type": "stream",
          "name": "stdout",
          "text": [
            "Dataset structure is correct.\n"
          ]
        },
        {
          "output_type": "execute_result",
          "data": {
            "text/plain": [
              "True"
            ]
          },
          "metadata": {},
          "execution_count": 4
        }
      ]
    },
    {
      "cell_type": "markdown",
      "source": [
        "#4.DnCNN Model Implementation"
      ],
      "metadata": {
        "id": "-xORk4e1ivdm"
      }
    },
    {
      "cell_type": "code",
      "source": [
        "# DnCNN Model definition\n",
        "class DnCNN(nn.Module):\n",
        "    def __init__(self, channels=1, num_of_layers=17):\n",
        "        super(DnCNN, self).__init__()\n",
        "        kernel_size = 3\n",
        "        padding = 1\n",
        "        features = 64\n",
        "        layers_ = []\n",
        "\n",
        "        # First layer\n",
        "        layers_.append(nn.Conv2d(in_channels=channels, out_channels=features, kernel_size=kernel_size, padding=padding, bias=False))\n",
        "        layers_.append(nn.ReLU(inplace=True))\n",
        "\n",
        "        # Hidden layers\n",
        "        for _ in range(num_of_layers - 2):\n",
        "            layers_.append(nn.Conv2d(in_channels=features, out_channels=features, kernel_size=kernel_size, padding=padding, bias=False))\n",
        "            layers_.append(nn.BatchNorm2d(features))\n",
        "            layers_.append(nn.ReLU(inplace=True))\n",
        "\n",
        "        # Last layer\n",
        "        layers_.append(nn.Conv2d(in_channels=features, out_channels=channels, kernel_size=kernel_size, padding=padding, bias=False))\n",
        "\n",
        "        self.dncnn = nn.Sequential(*layers_)\n",
        "\n",
        "    def forward(self, x):\n",
        "        out = self.dncnn(x)\n",
        "        return x - out  # Residual learning\n"
      ],
      "metadata": {
        "id": "c5MOkzexi1Vg"
      },
      "execution_count": 5,
      "outputs": []
    },
    {
      "cell_type": "markdown",
      "source": [
        "#5.Data Loading and Preprocessing"
      ],
      "metadata": {
        "id": "xKwOoLOEi49S"
      }
    },
    {
      "cell_type": "code",
      "source": [
        "class ChestXrayDataset(Dataset):\n",
        "    def __init__(self, data_dir, image_size=(256, 256), transform=None, add_noise=False):\n",
        "        self.normal_dir = os.path.join(data_dir, 'NORMAL')\n",
        "        self.pneumonia_dir = os.path.join(data_dir, 'PNEUMONIA')\n",
        "        self.image_paths = []\n",
        "        self.labels = []\n",
        "        self.image_size = image_size\n",
        "        self.transform = transform\n",
        "        self.add_noise = add_noise  # Flag to add noise\n",
        "\n",
        "        # Load NORMAL images\n",
        "        for img_name in os.listdir(self.normal_dir):\n",
        "            self.image_paths.append(os.path.join(self.normal_dir, img_name))\n",
        "            self.labels.append('NORMAL')\n",
        "\n",
        "        # Load PNEUMONIA images\n",
        "        for img_name in os.listdir(self.pneumonia_dir):\n",
        "            self.image_paths.append(os.path.join(self.pneumonia_dir, img_name))\n",
        "            self.labels.append('PNEUMONIA')\n",
        "\n",
        "    def __len__(self):\n",
        "        return len(self.image_paths)\n",
        "\n",
        "    def add_gaussian_noise(self, image, mean=0, std=25):\n",
        "        gauss = np.random.normal(mean, std, image.shape).astype('float32')\n",
        "        noisy = image + gauss\n",
        "        noisy = np.clip(noisy, 0, 255)\n",
        "        return noisy\n",
        "\n",
        "    def __getitem__(self, idx):\n",
        "        img_path = self.image_paths[idx]\n",
        "        label = self.labels[idx]\n",
        "\n",
        "        # Load image\n",
        "        image = cv2.imread(img_path, cv2.IMREAD_GRAYSCALE)\n",
        "        image = cv2.resize(image, self.image_size)\n",
        "        original_image = image.astype('float32')\n",
        "\n",
        "        # Optionally add noise\n",
        "        if self.add_noise:\n",
        "            noisy_image = self.add_gaussian_noise(original_image)\n",
        "        else:\n",
        "            noisy_image = original_image  # No noise added\n",
        "\n",
        "        # Normalize\n",
        "        original_image = original_image / 255.0\n",
        "        noisy_image = noisy_image / 255.0\n",
        "\n",
        "        # Convert to tensors\n",
        "        noisy_image_tensor = torch.from_numpy(noisy_image).unsqueeze(0)\n",
        "        original_image_tensor = torch.from_numpy(original_image).unsqueeze(0)\n",
        "\n",
        "        return noisy_image_tensor, original_image_tensor, label\n"
      ],
      "metadata": {
        "id": "0afD7PH5i-L3"
      },
      "execution_count": 6,
      "outputs": []
    },
    {
      "cell_type": "markdown",
      "source": [
        "#6. Training Functions"
      ],
      "metadata": {
        "id": "T2OfyPVrjSBU"
      }
    },
    {
      "cell_type": "markdown",
      "source": [
        "## 6.1 Train DnCNN Model"
      ],
      "metadata": {
        "id": "l5ktPmFajaO3"
      }
    },
    {
      "cell_type": "code",
      "source": [
        "def train_dncnn_model(model, train_loader, val_loader, num_epochs, criterion, optimizer, device):\n",
        "    model.train()\n",
        "    for epoch in range(num_epochs):\n",
        "        running_loss = 0.0\n",
        "        for noisy_images, clean_images, _ in tqdm(train_loader, desc=f\"Epoch {epoch+1}/{num_epochs}\"):\n",
        "            noisy_images, clean_images = noisy_images.to(device), clean_images.to(device)\n",
        "\n",
        "            optimizer.zero_grad()\n",
        "            outputs = model(noisy_images)\n",
        "            loss = criterion(outputs, clean_images)\n",
        "            loss.backward()\n",
        "            optimizer.step()\n",
        "\n",
        "            running_loss += loss.item()\n",
        "\n",
        "        val_loss = 0.0\n",
        "        model.eval()\n",
        "        with torch.no_grad():\n",
        "            for noisy_images, clean_images, _ in val_loader:\n",
        "                noisy_images, clean_images = noisy_images.to(device), clean_images.to(device)\n",
        "                outputs = model(noisy_images)\n",
        "                loss = criterion(outputs, clean_images)\n",
        "                val_loss += loss.item()\n",
        "        model.train()\n",
        "\n",
        "        print(f\"Training Loss: {running_loss/len(train_loader):.4f}, Validation Loss: {val_loss/len(val_loader):.4f}\")\n",
        "    print(\"DnCNN Training completed.\")\n"
      ],
      "metadata": {
        "id": "s9zkmir0jgQt"
      },
      "execution_count": 7,
      "outputs": []
    },
    {
      "cell_type": "markdown",
      "source": [
        "##6.2 Denoise Images"
      ],
      "metadata": {
        "id": "lAENFdhXjkHX"
      }
    },
    {
      "cell_type": "code",
      "source": [
        "def denoise_images(model, dataloader, device):\n",
        "    denoised_images = []\n",
        "    labels = []\n",
        "    model.eval()\n",
        "    with torch.no_grad():\n",
        "        for noisy_images, _, label in tqdm(dataloader, desc=\"Denoising Images\"):\n",
        "            noisy_images = noisy_images.to(device)\n",
        "            outputs = model(noisy_images)\n",
        "            outputs = outputs.cpu().numpy()\n",
        "            for i in range(outputs.shape[0]):\n",
        "                denoised_image = outputs[i].squeeze() * 255.0\n",
        "                denoised_image = np.clip(denoised_image, 0, 255).astype(np.uint8)\n",
        "                denoised_images.append(denoised_image)\n",
        "                labels.append(label[i])\n",
        "    return denoised_images, labels\n"
      ],
      "metadata": {
        "id": "HM8Gz5yZjnN2"
      },
      "execution_count": 8,
      "outputs": []
    },
    {
      "cell_type": "markdown",
      "source": [
        "#7. Classification Model Implementation"
      ],
      "metadata": {
        "id": "9lVwRxdoj1mh"
      }
    },
    {
      "cell_type": "markdown",
      "source": [
        "##Prepare Data for Classification"
      ],
      "metadata": {
        "id": "vL2L5CCTj5ga"
      }
    },
    {
      "cell_type": "code",
      "source": [
        "def prepare_classification_data(denoised_images, labels, image_size=(256, 256)):\n",
        "    images = np.array(denoised_images)\n",
        "    images = images.reshape(-1, image_size[0], image_size[1], 1)\n",
        "    images = images / 255.0  # Normalize\n",
        "\n",
        "    # Encode labels\n",
        "    label_encoder = LabelEncoder()\n",
        "    labels_encoded = label_encoder.fit_transform(labels)\n",
        "    labels_one_hot = to_categorical(labels_encoded, num_classes=2)\n",
        "\n",
        "    # Save the label encoder\n",
        "    with open('label_encoder_classification.pkl', 'wb') as f:\n",
        "        pickle.dump(label_encoder, f)\n",
        "\n",
        "    return images, labels_one_hot\n"
      ],
      "metadata": {
        "id": "hHUwswWXj3fi"
      },
      "execution_count": 41,
      "outputs": []
    },
    {
      "cell_type": "markdown",
      "source": [
        "##Classification Model Definition"
      ],
      "metadata": {
        "id": "tkFYMpkqj9ex"
      }
    },
    {
      "cell_type": "code",
      "source": [
        "def create_classification_model(input_shape=(256, 256, 1)):\n",
        "    model = models.Sequential([\n",
        "        layers.Conv2D(32, (3,3), activation='relu', input_shape=input_shape),\n",
        "        layers.MaxPooling2D((2,2)),\n",
        "        layers.Dropout(0.25),\n",
        "\n",
        "        layers.Conv2D(64, (3,3), activation='relu'),\n",
        "        layers.MaxPooling2D((2,2)),\n",
        "        layers.Dropout(0.25),\n",
        "\n",
        "        layers.Conv2D(128, (3,3), activation='relu'),\n",
        "        layers.MaxPooling2D((2,2)),\n",
        "        layers.Dropout(0.25),\n",
        "\n",
        "        layers.Flatten(),\n",
        "        layers.Dense(128, activation='relu'),\n",
        "        layers.Dropout(0.5),\n",
        "        layers.Dense(2, activation='softmax')  # Output layer for 2 classes\n",
        "    ])\n",
        "    model.compile(optimizer='adam', loss='categorical_crossentropy', metrics=['accuracy'])\n",
        "    return model\n"
      ],
      "metadata": {
        "id": "SoD1Xe_Qj_7P"
      },
      "execution_count": 42,
      "outputs": []
    },
    {
      "cell_type": "markdown",
      "source": [
        "##Train Classification Model"
      ],
      "metadata": {
        "id": "TCFkgW7_kCIj"
      }
    },
    {
      "cell_type": "code",
      "source": [
        "def train_classification_model(model, X_train, y_train, X_val, y_val):\n",
        "    early_stopping = tf.keras.callbacks.EarlyStopping(monitor='val_loss', patience=5, restore_best_weights=True)\n",
        "    model_checkpoint = tf.keras.callbacks.ModelCheckpoint(\n",
        "        'classification_best_model.keras',\n",
        "        monitor='val_loss',\n",
        "        save_best_only=True,\n",
        "        mode='min',\n",
        "        verbose=1\n",
        "    )\n",
        "\n",
        "    history = model.fit(\n",
        "        X_train, y_train,\n",
        "        validation_data=(X_val, y_val),\n",
        "        epochs=20,\n",
        "        batch_size=32,\n",
        "        callbacks=[early_stopping, model_checkpoint]\n",
        "    )\n",
        "    return history\n"
      ],
      "metadata": {
        "id": "x6PWCbD8kGAn"
      },
      "execution_count": 46,
      "outputs": []
    },
    {
      "cell_type": "markdown",
      "source": [
        "#8. Main Execution"
      ],
      "metadata": {
        "id": "jMi4ZGFcl5Bl"
      }
    },
    {
      "cell_type": "markdown",
      "source": [
        "##Set Hyperparameters and Paths"
      ],
      "metadata": {
        "id": "yY6HVKf-l9J6"
      }
    },
    {
      "cell_type": "code",
      "source": [
        "# Paths\n",
        "train_dir = os.path.join(dataset_dir, 'train')\n",
        "val_dir = os.path.join(dataset_dir, 'val')\n",
        "test_dir = os.path.join(dataset_dir, 'test')\n",
        "\n",
        "# Hyperparameters\n",
        "num_epochs_dncnn = 5\n",
        "batch_size = 8\n",
        "learning_rate = 0.001\n",
        "image_size = (256, 256)\n",
        "\n",
        "# Device configuration\n",
        "device = torch.device('cuda' if torch.cuda.is_available() else 'cpu')\n",
        "print(f\"Using device: {device}\")\n"
      ],
      "metadata": {
        "colab": {
          "base_uri": "https://localhost:8080/"
        },
        "id": "EowAYQF_l7WM",
        "outputId": "08dbb30f-552c-481a-e337-48c5fc98fc70"
      },
      "execution_count": 12,
      "outputs": [
        {
          "output_type": "stream",
          "name": "stdout",
          "text": [
            "Using device: cuda\n"
          ]
        }
      ]
    },
    {
      "cell_type": "markdown",
      "source": [
        "#9. Create Datasets and Dataloaders"
      ],
      "metadata": {
        "id": "AKafdEyzl_KC"
      }
    },
    {
      "cell_type": "code",
      "source": [
        "# Create datasets\n",
        "train_dataset = ChestXrayDataset(train_dir, image_size=image_size, add_noise=True)\n",
        "val_dataset = ChestXrayDataset(val_dir, image_size=image_size, add_noise=True)\n",
        "test_dataset = ChestXrayDataset(test_dir, image_size=image_size, add_noise=False)  # No noise added to test data\n",
        "\n",
        "# Create dataloaders\n",
        "train_loader = DataLoader(train_dataset, batch_size=batch_size, shuffle=True)\n",
        "val_loader = DataLoader(val_dataset, batch_size=batch_size, shuffle=False)\n",
        "test_loader = DataLoader(test_dataset, batch_size=batch_size, shuffle=False)\n"
      ],
      "metadata": {
        "id": "j0bBhSz4mC6s"
      },
      "execution_count": 13,
      "outputs": []
    },
    {
      "cell_type": "markdown",
      "source": [
        "##Initialize DnCNN Model"
      ],
      "metadata": {
        "id": "-RA-qqTmmDxK"
      }
    },
    {
      "cell_type": "code",
      "source": [
        "# Initialize DnCNN model, criterion, and optimizer\n",
        "dncnn_model = DnCNN(channels=1, num_of_layers=17).to(device)\n",
        "criterion = nn.MSELoss()\n",
        "optimizer = torch.optim.Adam(dncnn_model.parameters(), lr=learning_rate)\n"
      ],
      "metadata": {
        "id": "N7WLocW0mGsB"
      },
      "execution_count": 14,
      "outputs": []
    },
    {
      "cell_type": "markdown",
      "source": [
        "##Train DnCNN Model\n"
      ],
      "metadata": {
        "id": "mGOOz0KBmHNn"
      }
    },
    {
      "cell_type": "code",
      "source": [
        "# Train DnCNN model\n",
        "train_dncnn_model(dncnn_model, train_loader, val_loader, num_epochs_dncnn, criterion, optimizer, device)\n",
        "\n",
        "\n"
      ],
      "metadata": {
        "colab": {
          "base_uri": "https://localhost:8080/"
        },
        "id": "UoOgFELKmJWI",
        "outputId": "909fd7fe-3f9d-42d3-9133-17a63ea2c78a"
      },
      "execution_count": 16,
      "outputs": [
        {
          "output_type": "stream",
          "name": "stderr",
          "text": [
            "Epoch 1/5: 100%|██████████| 399/399 [03:54<00:00,  1.70it/s]\n"
          ]
        },
        {
          "output_type": "stream",
          "name": "stdout",
          "text": [
            "Training Loss: 0.0008, Validation Loss: 0.0007\n"
          ]
        },
        {
          "output_type": "stream",
          "name": "stderr",
          "text": [
            "Epoch 2/5: 100%|██████████| 399/399 [03:58<00:00,  1.68it/s]\n"
          ]
        },
        {
          "output_type": "stream",
          "name": "stdout",
          "text": [
            "Training Loss: 0.0008, Validation Loss: 0.0012\n"
          ]
        },
        {
          "output_type": "stream",
          "name": "stderr",
          "text": [
            "Epoch 3/5: 100%|██████████| 399/399 [03:58<00:00,  1.67it/s]\n"
          ]
        },
        {
          "output_type": "stream",
          "name": "stdout",
          "text": [
            "Training Loss: 0.0008, Validation Loss: 0.0007\n"
          ]
        },
        {
          "output_type": "stream",
          "name": "stderr",
          "text": [
            "Epoch 4/5: 100%|██████████| 399/399 [03:58<00:00,  1.67it/s]\n"
          ]
        },
        {
          "output_type": "stream",
          "name": "stdout",
          "text": [
            "Training Loss: 0.0008, Validation Loss: 0.0006\n"
          ]
        },
        {
          "output_type": "stream",
          "name": "stderr",
          "text": [
            "Epoch 5/5: 100%|██████████| 399/399 [03:58<00:00,  1.67it/s]\n"
          ]
        },
        {
          "output_type": "stream",
          "name": "stdout",
          "text": [
            "Training Loss: 0.0007, Validation Loss: 0.0006\n",
            "DnCNN Training completed.\n"
          ]
        }
      ]
    },
    {
      "cell_type": "code",
      "source": [
        "# Save DnCNN model\n",
        "torch.save(dncnn_model.state_dict(), 'dncnn_trained.pth')\n",
        "print(\"DnCNN model saved.\")"
      ],
      "metadata": {
        "colab": {
          "base_uri": "https://localhost:8080/"
        },
        "id": "FrHyd2Rb1k0J",
        "outputId": "4a6ae411-bff8-4d6a-8c9c-37c73d2ccc9c"
      },
      "execution_count": 17,
      "outputs": [
        {
          "output_type": "stream",
          "name": "stdout",
          "text": [
            "DnCNN model saved.\n"
          ]
        }
      ]
    },
    {
      "cell_type": "markdown",
      "source": [
        "#10. Denoising Images"
      ],
      "metadata": {
        "id": "mwTIPtsKmKir"
      }
    },
    {
      "cell_type": "code",
      "source": [],
      "metadata": {
        "id": "dNRG30uhk0ZE"
      },
      "execution_count": 17,
      "outputs": []
    },
    {
      "cell_type": "code",
      "source": [
        "# Denoise images using DnCNN\n",
        "# Denoise train images\n",
        "train_denoised_images, train_labels = denoise_images(dncnn_model, train_loader, device)\n",
        "# Denoise validation images\n",
        "val_denoised_images, val_labels = denoise_images(dncnn_model, val_loader, device)\n",
        "# Denoise test images\n",
        "test_denoised_images, test_labels = denoise_images(dncnn_model, test_loader, device)\n"
      ],
      "metadata": {
        "id": "xh80_EdFmOIW",
        "colab": {
          "base_uri": "https://localhost:8080/"
        },
        "outputId": "7d92fb8b-6b29-4481-c5fe-b23055c5c7aa"
      },
      "execution_count": 18,
      "outputs": [
        {
          "output_type": "stream",
          "name": "stderr",
          "text": [
            "Denoising Images: 100%|██████████| 399/399 [01:50<00:00,  3.60it/s]\n",
            "Denoising Images: 100%|██████████| 2/2 [00:00<00:00,  3.29it/s]\n",
            "Denoising Images: 100%|██████████| 78/78 [02:42<00:00,  2.08s/it]\n"
          ]
        }
      ]
    },
    {
      "cell_type": "code",
      "source": [
        "train_denoised_images[0]"
      ],
      "metadata": {
        "colab": {
          "base_uri": "https://localhost:8080/",
          "height": 297
        },
        "id": "ZslTIIdr9xJl",
        "outputId": "1aa8cad4-78a6-4f70-9398-2cd1896af49b"
      },
      "execution_count": 36,
      "outputs": [
        {
          "output_type": "execute_result",
          "data": {
            "text/plain": [
              "array([[ 0,  5,  7, ..., 14, 13,  0],\n",
              "       [ 2,  6,  0, ..., 18, 24, 19],\n",
              "       [ 8,  4,  1, ..., 28, 23, 24],\n",
              "       ...,\n",
              "       [ 0,  0,  0, ...,  0,  1,  0],\n",
              "       [ 5,  3,  0, ...,  1,  1,  7],\n",
              "       [ 0,  0, 28, ...,  0, 29, 10]], dtype=uint8)"
            ],
            "text/html": [
              "<style>\n",
              "      .ndarray_repr .ndarray_raw_data {\n",
              "        display: none;\n",
              "      }\n",
              "      .ndarray_repr.show_array .ndarray_raw_data {\n",
              "        display: block;\n",
              "      }\n",
              "      .ndarray_repr.show_array .ndarray_image_preview {\n",
              "        display: none;\n",
              "      }\n",
              "      </style>\n",
              "      <div id=\"id-785a0ad0-1555-484c-8689-f2dbee2ce0d8\" class=\"ndarray_repr\"><pre>ndarray (256, 256) <button style=\"padding: 0 2px;\">show data</button></pre><img src=\"data:image/png;base64,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\" class=\"ndarray_image_preview\" /><pre class=\"ndarray_raw_data\">array([[ 0,  5,  7, ..., 14, 13,  0],\n",
              "       [ 2,  6,  0, ..., 18, 24, 19],\n",
              "       [ 8,  4,  1, ..., 28, 23, 24],\n",
              "       ...,\n",
              "       [ 0,  0,  0, ...,  0,  1,  0],\n",
              "       [ 5,  3,  0, ...,  1,  1,  7],\n",
              "       [ 0,  0, 28, ...,  0, 29, 10]], dtype=uint8)</pre></div><script>\n",
              "      (() => {\n",
              "      const titles = ['show data', 'hide data'];\n",
              "      let index = 0\n",
              "      document.querySelector('#id-785a0ad0-1555-484c-8689-f2dbee2ce0d8 button').onclick = (e) => {\n",
              "        document.querySelector('#id-785a0ad0-1555-484c-8689-f2dbee2ce0d8').classList.toggle('show_array');\n",
              "        index = (++index) % 2;\n",
              "        document.querySelector('#id-785a0ad0-1555-484c-8689-f2dbee2ce0d8 button').textContent = titles[index];\n",
              "        e.preventDefault();\n",
              "        e.stopPropagation();\n",
              "      }\n",
              "      })();\n",
              "    </script>"
            ]
          },
          "metadata": {},
          "execution_count": 36
        }
      ]
    },
    {
      "cell_type": "code",
      "source": [
        "import os\n",
        "import numpy as np\n",
        "from PIL import Image\n",
        "\n",
        "# Function to save denoised images in folders based on labels\n",
        "def save_denoised_images(denoised_images, labels, output_folder):\n",
        "    # Get unique labels\n",
        "    unique_labels = np.unique(labels)\n",
        "\n",
        "    # Create output folder if it doesn't exist\n",
        "    if not os.path.exists(output_folder):\n",
        "        os.makedirs(output_folder)\n",
        "\n",
        "    # Create a folder for each unique label\n",
        "    for label in unique_labels:\n",
        "        label_folder = os.path.join(output_folder, f\"label_{label}\")\n",
        "        if not os.path.exists(label_folder):\n",
        "            os.makedirs(label_folder)\n",
        "\n",
        "    # Save each denoised image in its respective label folder\n",
        "    for i, (image, label) in enumerate(zip(denoised_images, labels)):\n",
        "        label_folder = os.path.join(output_folder, f\"label_{label}\")\n",
        "        image_path = os.path.join(label_folder, f\"image_{i}.png\")\n",
        "\n",
        "        # Convert numpy array to an image and save it\n",
        "        image = (image * 255).astype(np.uint8)  # Rescale to 0-255 if needed\n",
        "        im = Image.fromarray(image)\n",
        "        im.save(image_path)\n",
        "\n",
        "# Example usage:\n",
        "# Save denoised train images\n",
        "save_denoised_images(train_denoised_images, train_labels, '/content/drive/MyDrive/train_denoised')\n",
        "\n",
        "# Save denoised validation images\n",
        "save_denoised_images(val_denoised_images, val_labels, '/content/drive/MyDrive/val_denoised')\n",
        "\n",
        "# Save denoised test images\n",
        "save_denoised_images(test_denoised_images, test_labels, '/content/drive/MyDrive/test_denoised')\n"
      ],
      "metadata": {
        "id": "0BvprAoq81yv"
      },
      "execution_count": 40,
      "outputs": []
    },
    {
      "cell_type": "code",
      "source": [
        "\n",
        "from google.colab import files\n",
        "files.download('/content/test_denoised')\n",
        "files.download('/content/val_denoised')\n",
        "files.download('/content/train_denoised')\n",
        "\n",
        "print(\"Download complete.\")"
      ],
      "metadata": {
        "colab": {
          "base_uri": "https://localhost:8080/",
          "height": 86
        },
        "id": "JysR3LFRAcWe",
        "outputId": "2d984a02-945e-475a-eab4-d39d9026a3a3"
      },
      "execution_count": 39,
      "outputs": [
        {
          "output_type": "display_data",
          "data": {
            "text/plain": [
              "<IPython.core.display.Javascript object>"
            ],
            "application/javascript": [
              "\n",
              "    async function download(id, filename, size) {\n",
              "      if (!google.colab.kernel.accessAllowed) {\n",
              "        return;\n",
              "      }\n",
              "      const div = document.createElement('div');\n",
              "      const label = document.createElement('label');\n",
              "      label.textContent = `Downloading \"${filename}\": `;\n",
              "      div.appendChild(label);\n",
              "      const progress = document.createElement('progress');\n",
              "      progress.max = size;\n",
              "      div.appendChild(progress);\n",
              "      document.body.appendChild(div);\n",
              "\n",
              "      const buffers = [];\n",
              "      let downloaded = 0;\n",
              "\n",
              "      const channel = await google.colab.kernel.comms.open(id);\n",
              "      // Send a message to notify the kernel that we're ready.\n",
              "      channel.send({})\n",
              "\n",
              "      for await (const message of channel.messages) {\n",
              "        // Send a message to notify the kernel that we're ready.\n",
              "        channel.send({})\n",
              "        if (message.buffers) {\n",
              "          for (const buffer of message.buffers) {\n",
              "            buffers.push(buffer);\n",
              "            downloaded += buffer.byteLength;\n",
              "            progress.value = downloaded;\n",
              "          }\n",
              "        }\n",
              "      }\n",
              "      const blob = new Blob(buffers, {type: 'application/binary'});\n",
              "      const a = document.createElement('a');\n",
              "      a.href = window.URL.createObjectURL(blob);\n",
              "      a.download = filename;\n",
              "      div.appendChild(a);\n",
              "      a.click();\n",
              "      div.remove();\n",
              "    }\n",
              "  "
            ]
          },
          "metadata": {}
        },
        {
          "output_type": "display_data",
          "data": {
            "text/plain": [
              "<IPython.core.display.Javascript object>"
            ],
            "application/javascript": [
              "download(\"download_d18b01a3-1590-417b-b9db-9161a803f011\", \"test_denoised\", 4096)"
            ]
          },
          "metadata": {}
        },
        {
          "output_type": "display_data",
          "data": {
            "text/plain": [
              "<IPython.core.display.Javascript object>"
            ],
            "application/javascript": [
              "\n",
              "    async function download(id, filename, size) {\n",
              "      if (!google.colab.kernel.accessAllowed) {\n",
              "        return;\n",
              "      }\n",
              "      const div = document.createElement('div');\n",
              "      const label = document.createElement('label');\n",
              "      label.textContent = `Downloading \"${filename}\": `;\n",
              "      div.appendChild(label);\n",
              "      const progress = document.createElement('progress');\n",
              "      progress.max = size;\n",
              "      div.appendChild(progress);\n",
              "      document.body.appendChild(div);\n",
              "\n",
              "      const buffers = [];\n",
              "      let downloaded = 0;\n",
              "\n",
              "      const channel = await google.colab.kernel.comms.open(id);\n",
              "      // Send a message to notify the kernel that we're ready.\n",
              "      channel.send({})\n",
              "\n",
              "      for await (const message of channel.messages) {\n",
              "        // Send a message to notify the kernel that we're ready.\n",
              "        channel.send({})\n",
              "        if (message.buffers) {\n",
              "          for (const buffer of message.buffers) {\n",
              "            buffers.push(buffer);\n",
              "            downloaded += buffer.byteLength;\n",
              "            progress.value = downloaded;\n",
              "          }\n",
              "        }\n",
              "      }\n",
              "      const blob = new Blob(buffers, {type: 'application/binary'});\n",
              "      const a = document.createElement('a');\n",
              "      a.href = window.URL.createObjectURL(blob);\n",
              "      a.download = filename;\n",
              "      div.appendChild(a);\n",
              "      a.click();\n",
              "      div.remove();\n",
              "    }\n",
              "  "
            ]
          },
          "metadata": {}
        },
        {
          "output_type": "display_data",
          "data": {
            "text/plain": [
              "<IPython.core.display.Javascript object>"
            ],
            "application/javascript": [
              "download(\"download_2ad806f6-6b0e-4822-b5b1-38a236f68d70\", \"val_denoised\", 4096)"
            ]
          },
          "metadata": {}
        },
        {
          "output_type": "display_data",
          "data": {
            "text/plain": [
              "<IPython.core.display.Javascript object>"
            ],
            "application/javascript": [
              "\n",
              "    async function download(id, filename, size) {\n",
              "      if (!google.colab.kernel.accessAllowed) {\n",
              "        return;\n",
              "      }\n",
              "      const div = document.createElement('div');\n",
              "      const label = document.createElement('label');\n",
              "      label.textContent = `Downloading \"${filename}\": `;\n",
              "      div.appendChild(label);\n",
              "      const progress = document.createElement('progress');\n",
              "      progress.max = size;\n",
              "      div.appendChild(progress);\n",
              "      document.body.appendChild(div);\n",
              "\n",
              "      const buffers = [];\n",
              "      let downloaded = 0;\n",
              "\n",
              "      const channel = await google.colab.kernel.comms.open(id);\n",
              "      // Send a message to notify the kernel that we're ready.\n",
              "      channel.send({})\n",
              "\n",
              "      for await (const message of channel.messages) {\n",
              "        // Send a message to notify the kernel that we're ready.\n",
              "        channel.send({})\n",
              "        if (message.buffers) {\n",
              "          for (const buffer of message.buffers) {\n",
              "            buffers.push(buffer);\n",
              "            downloaded += buffer.byteLength;\n",
              "            progress.value = downloaded;\n",
              "          }\n",
              "        }\n",
              "      }\n",
              "      const blob = new Blob(buffers, {type: 'application/binary'});\n",
              "      const a = document.createElement('a');\n",
              "      a.href = window.URL.createObjectURL(blob);\n",
              "      a.download = filename;\n",
              "      div.appendChild(a);\n",
              "      a.click();\n",
              "      div.remove();\n",
              "    }\n",
              "  "
            ]
          },
          "metadata": {}
        },
        {
          "output_type": "display_data",
          "data": {
            "text/plain": [
              "<IPython.core.display.Javascript object>"
            ],
            "application/javascript": [
              "download(\"download_7fcfde97-0abe-4e0e-a29e-34188d259d4e\", \"train_denoised\", 4096)"
            ]
          },
          "metadata": {}
        },
        {
          "output_type": "stream",
          "name": "stdout",
          "text": [
            "Download complete.\n"
          ]
        }
      ]
    },
    {
      "cell_type": "markdown",
      "source": [
        "#11. Prepare Data for Classification"
      ],
      "metadata": {
        "id": "huWMV5VJmUSr"
      }
    },
    {
      "cell_type": "code",
      "source": [],
      "metadata": {
        "id": "FAhxYic78006"
      },
      "execution_count": null,
      "outputs": []
    },
    {
      "cell_type": "code",
      "source": [
        "# Prepare data for classification\n",
        "X_train, y_train = prepare_classification_data(train_denoised_images, train_labels, image_size=image_size)\n",
        "X_val, y_val = prepare_classification_data(val_denoised_images, val_labels, image_size=image_size)\n",
        "X_test, y_test = prepare_classification_data(test_denoised_images, test_labels, image_size=image_size)\n"
      ],
      "metadata": {
        "id": "LI3ly-cFmYpU"
      },
      "execution_count": 19,
      "outputs": []
    },
    {
      "cell_type": "code",
      "source": [],
      "metadata": {
        "id": "td5SC0917e-y"
      },
      "execution_count": null,
      "outputs": []
    },
    {
      "cell_type": "markdown",
      "source": [
        "#12. Classification Model Training"
      ],
      "metadata": {
        "id": "wJkGtB4-mbUV"
      }
    },
    {
      "cell_type": "code",
      "source": [
        "# Define input shape for the classification model\n",
        "input_shape = (256, 256, 1)\n",
        "\n",
        "# Create classification model\n",
        "classification_model = create_classification_model(input_shape=input_shape)\n",
        "\n",
        "# Now train the classification model with the updated callback\n",
        "history = train_classification_model(classification_model, X_train, y_train, X_val, y_val)\n",
        "\n",
        "# Save the final classification model in .keras format\n",
        "classification_model.save('classification_model.keras')  # Updated final model save to .keras\n",
        "print(\"Classification model saved.\")\n"
      ],
      "metadata": {
        "id": "M8ipKNFAmct1",
        "colab": {
          "base_uri": "https://localhost:8080/"
        },
        "outputId": "d017e346-62e0-40e4-9826-d34d24265e05"
      },
      "execution_count": 47,
      "outputs": [
        {
          "output_type": "stream",
          "name": "stdout",
          "text": [
            "Epoch 1/20\n",
            "\u001b[1m100/100\u001b[0m \u001b[32m━━━━━━━━━━━━━━━━━━━━\u001b[0m\u001b[37m\u001b[0m \u001b[1m0s\u001b[0m 123ms/step - accuracy: 0.6264 - loss: 0.8728\n",
            "Epoch 1: val_loss improved from inf to 0.33306, saving model to classification_best_model.keras\n",
            "\u001b[1m100/100\u001b[0m \u001b[32m━━━━━━━━━━━━━━━━━━━━\u001b[0m\u001b[37m\u001b[0m \u001b[1m32s\u001b[0m 189ms/step - accuracy: 0.6276 - loss: 0.8697 - val_accuracy: 0.9375 - val_loss: 0.3331\n",
            "Epoch 2/20\n",
            "\u001b[1m 99/100\u001b[0m \u001b[32m━━━━━━━━━━━━━━━━━━━\u001b[0m\u001b[37m━\u001b[0m \u001b[1m0s\u001b[0m 58ms/step - accuracy: 0.9114 - loss: 0.2378\n",
            "Epoch 2: val_loss improved from 0.33306 to 0.25002, saving model to classification_best_model.keras\n",
            "\u001b[1m100/100\u001b[0m \u001b[32m━━━━━━━━━━━━━━━━━━━━\u001b[0m\u001b[37m\u001b[0m \u001b[1m21s\u001b[0m 101ms/step - accuracy: 0.9117 - loss: 0.2370 - val_accuracy: 0.9375 - val_loss: 0.2500\n",
            "Epoch 3/20\n",
            "\u001b[1m 99/100\u001b[0m \u001b[32m━━━━━━━━━━━━━━━━━━━\u001b[0m\u001b[37m━\u001b[0m \u001b[1m0s\u001b[0m 59ms/step - accuracy: 0.9601 - loss: 0.1320\n",
            "Epoch 3: val_loss did not improve from 0.25002\n",
            "\u001b[1m100/100\u001b[0m \u001b[32m━━━━━━━━━━━━━━━━━━━━\u001b[0m\u001b[37m\u001b[0m \u001b[1m6s\u001b[0m 60ms/step - accuracy: 0.9600 - loss: 0.1319 - val_accuracy: 0.8125 - val_loss: 0.3449\n",
            "Epoch 4/20\n",
            "\u001b[1m 99/100\u001b[0m \u001b[32m━━━━━━━━━━━━━━━━━━━\u001b[0m\u001b[37m━\u001b[0m \u001b[1m0s\u001b[0m 60ms/step - accuracy: 0.9590 - loss: 0.1141\n",
            "Epoch 4: val_loss did not improve from 0.25002\n",
            "\u001b[1m100/100\u001b[0m \u001b[32m━━━━━━━━━━━━━━━━━━━━\u001b[0m\u001b[37m\u001b[0m \u001b[1m10s\u001b[0m 61ms/step - accuracy: 0.9591 - loss: 0.1138 - val_accuracy: 0.8750 - val_loss: 0.2932\n",
            "Epoch 5/20\n",
            "\u001b[1m 99/100\u001b[0m \u001b[32m━━━━━━━━━━━━━━━━━━━\u001b[0m\u001b[37m━\u001b[0m \u001b[1m0s\u001b[0m 58ms/step - accuracy: 0.9526 - loss: 0.1396\n",
            "Epoch 5: val_loss improved from 0.25002 to 0.19485, saving model to classification_best_model.keras\n",
            "\u001b[1m100/100\u001b[0m \u001b[32m━━━━━━━━━━━━━━━━━━━━\u001b[0m\u001b[37m\u001b[0m \u001b[1m11s\u001b[0m 107ms/step - accuracy: 0.9526 - loss: 0.1396 - val_accuracy: 1.0000 - val_loss: 0.1949\n",
            "Epoch 6/20\n",
            "\u001b[1m 99/100\u001b[0m \u001b[32m━━━━━━━━━━━━━━━━━━━\u001b[0m\u001b[37m━\u001b[0m \u001b[1m0s\u001b[0m 60ms/step - accuracy: 0.9661 - loss: 0.0923\n",
            "Epoch 6: val_loss improved from 0.19485 to 0.08540, saving model to classification_best_model.keras\n",
            "\u001b[1m100/100\u001b[0m \u001b[32m━━━━━━━━━━━━━━━━━━━━\u001b[0m\u001b[37m\u001b[0m \u001b[1m31s\u001b[0m 212ms/step - accuracy: 0.9662 - loss: 0.0922 - val_accuracy: 1.0000 - val_loss: 0.0854\n",
            "Epoch 7/20\n",
            "\u001b[1m 99/100\u001b[0m \u001b[32m━━━━━━━━━━━━━━━━━━━\u001b[0m\u001b[37m━\u001b[0m \u001b[1m0s\u001b[0m 58ms/step - accuracy: 0.9746 - loss: 0.0754\n",
            "Epoch 7: val_loss improved from 0.08540 to 0.07449, saving model to classification_best_model.keras\n",
            "\u001b[1m100/100\u001b[0m \u001b[32m━━━━━━━━━━━━━━━━━━━━\u001b[0m\u001b[37m\u001b[0m \u001b[1m17s\u001b[0m 171ms/step - accuracy: 0.9747 - loss: 0.0752 - val_accuracy: 1.0000 - val_loss: 0.0745\n",
            "Epoch 8/20\n",
            "\u001b[1m 99/100\u001b[0m \u001b[32m━━━━━━━━━━━━━━━━━━━\u001b[0m\u001b[37m━\u001b[0m \u001b[1m0s\u001b[0m 60ms/step - accuracy: 0.9775 - loss: 0.0602\n",
            "Epoch 8: val_loss did not improve from 0.07449\n",
            "\u001b[1m100/100\u001b[0m \u001b[32m━━━━━━━━━━━━━━━━━━━━\u001b[0m\u001b[37m\u001b[0m \u001b[1m6s\u001b[0m 60ms/step - accuracy: 0.9775 - loss: 0.0601 - val_accuracy: 1.0000 - val_loss: 0.0885\n",
            "Epoch 9/20\n",
            "\u001b[1m 99/100\u001b[0m \u001b[32m━━━━━━━━━━━━━━━━━━━\u001b[0m\u001b[37m━\u001b[0m \u001b[1m0s\u001b[0m 59ms/step - accuracy: 0.9826 - loss: 0.0464\n",
            "Epoch 9: val_loss did not improve from 0.07449\n",
            "\u001b[1m100/100\u001b[0m \u001b[32m━━━━━━━━━━━━━━━━━━━━\u001b[0m\u001b[37m\u001b[0m \u001b[1m6s\u001b[0m 59ms/step - accuracy: 0.9826 - loss: 0.0464 - val_accuracy: 0.9375 - val_loss: 0.1243\n",
            "Epoch 10/20\n",
            "\u001b[1m 99/100\u001b[0m \u001b[32m━━━━━━━━━━━━━━━━━━━\u001b[0m\u001b[37m━\u001b[0m \u001b[1m0s\u001b[0m 58ms/step - accuracy: 0.9897 - loss: 0.0291\n",
            "Epoch 10: val_loss did not improve from 0.07449\n",
            "\u001b[1m100/100\u001b[0m \u001b[32m━━━━━━━━━━━━━━━━━━━━\u001b[0m\u001b[37m\u001b[0m \u001b[1m6s\u001b[0m 58ms/step - accuracy: 0.9897 - loss: 0.0292 - val_accuracy: 0.9375 - val_loss: 0.0864\n",
            "Epoch 11/20\n",
            "\u001b[1m 99/100\u001b[0m \u001b[32m━━━━━━━━━━━━━━━━━━━\u001b[0m\u001b[37m━\u001b[0m \u001b[1m0s\u001b[0m 59ms/step - accuracy: 0.9895 - loss: 0.0311\n",
            "Epoch 11: val_loss improved from 0.07449 to 0.03233, saving model to classification_best_model.keras\n",
            "\u001b[1m100/100\u001b[0m \u001b[32m━━━━━━━━━━━━━━━━━━━━\u001b[0m\u001b[37m\u001b[0m \u001b[1m16s\u001b[0m 120ms/step - accuracy: 0.9895 - loss: 0.0311 - val_accuracy: 1.0000 - val_loss: 0.0323\n",
            "Epoch 12/20\n",
            "\u001b[1m 99/100\u001b[0m \u001b[32m━━━━━━━━━━━━━━━━━━━\u001b[0m\u001b[37m━\u001b[0m \u001b[1m0s\u001b[0m 60ms/step - accuracy: 0.9893 - loss: 0.0266\n",
            "Epoch 12: val_loss did not improve from 0.03233\n",
            "\u001b[1m100/100\u001b[0m \u001b[32m━━━━━━━━━━━━━━━━━━━━\u001b[0m\u001b[37m\u001b[0m \u001b[1m15s\u001b[0m 60ms/step - accuracy: 0.9892 - loss: 0.0268 - val_accuracy: 1.0000 - val_loss: 0.0338\n",
            "Epoch 13/20\n",
            "\u001b[1m 99/100\u001b[0m \u001b[32m━━━━━━━━━━━━━━━━━━━\u001b[0m\u001b[37m━\u001b[0m \u001b[1m0s\u001b[0m 59ms/step - accuracy: 0.9948 - loss: 0.0195\n",
            "Epoch 13: val_loss did not improve from 0.03233\n",
            "\u001b[1m100/100\u001b[0m \u001b[32m━━━━━━━━━━━━━━━━━━━━\u001b[0m\u001b[37m\u001b[0m \u001b[1m10s\u001b[0m 59ms/step - accuracy: 0.9948 - loss: 0.0195 - val_accuracy: 0.9375 - val_loss: 0.1480\n",
            "Epoch 14/20\n",
            "\u001b[1m 99/100\u001b[0m \u001b[32m━━━━━━━━━━━━━━━━━━━\u001b[0m\u001b[37m━\u001b[0m \u001b[1m0s\u001b[0m 58ms/step - accuracy: 0.9883 - loss: 0.0297\n",
            "Epoch 14: val_loss did not improve from 0.03233\n",
            "\u001b[1m100/100\u001b[0m \u001b[32m━━━━━━━━━━━━━━━━━━━━\u001b[0m\u001b[37m\u001b[0m \u001b[1m10s\u001b[0m 59ms/step - accuracy: 0.9883 - loss: 0.0296 - val_accuracy: 0.9375 - val_loss: 0.0830\n",
            "Epoch 15/20\n",
            "\u001b[1m 99/100\u001b[0m \u001b[32m━━━━━━━━━━━━━━━━━━━\u001b[0m\u001b[37m━\u001b[0m \u001b[1m0s\u001b[0m 60ms/step - accuracy: 0.9868 - loss: 0.0386\n",
            "Epoch 15: val_loss did not improve from 0.03233\n",
            "\u001b[1m100/100\u001b[0m \u001b[32m━━━━━━━━━━━━━━━━━━━━\u001b[0m\u001b[37m\u001b[0m \u001b[1m6s\u001b[0m 60ms/step - accuracy: 0.9869 - loss: 0.0384 - val_accuracy: 1.0000 - val_loss: 0.0629\n",
            "Epoch 16/20\n",
            "\u001b[1m 99/100\u001b[0m \u001b[32m━━━━━━━━━━━━━━━━━━━\u001b[0m\u001b[37m━\u001b[0m \u001b[1m0s\u001b[0m 59ms/step - accuracy: 0.9943 - loss: 0.0188\n",
            "Epoch 16: val_loss improved from 0.03233 to 0.00735, saving model to classification_best_model.keras\n",
            "\u001b[1m100/100\u001b[0m \u001b[32m━━━━━━━━━━━━━━━━━━━━\u001b[0m\u001b[37m\u001b[0m \u001b[1m23s\u001b[0m 186ms/step - accuracy: 0.9943 - loss: 0.0188 - val_accuracy: 1.0000 - val_loss: 0.0074\n",
            "Epoch 17/20\n",
            "\u001b[1m 99/100\u001b[0m \u001b[32m━━━━━━━━━━━━━━━━━━━\u001b[0m\u001b[37m━\u001b[0m \u001b[1m0s\u001b[0m 60ms/step - accuracy: 0.9925 - loss: 0.0243\n",
            "Epoch 17: val_loss did not improve from 0.00735\n",
            "\u001b[1m100/100\u001b[0m \u001b[32m━━━━━━━━━━━━━━━━━━━━\u001b[0m\u001b[37m\u001b[0m \u001b[1m6s\u001b[0m 60ms/step - accuracy: 0.9924 - loss: 0.0243 - val_accuracy: 0.9375 - val_loss: 0.1133\n",
            "Epoch 18/20\n",
            "\u001b[1m 99/100\u001b[0m \u001b[32m━━━━━━━━━━━━━━━━━━━\u001b[0m\u001b[37m━\u001b[0m \u001b[1m0s\u001b[0m 58ms/step - accuracy: 0.9954 - loss: 0.0184\n",
            "Epoch 18: val_loss did not improve from 0.00735\n",
            "\u001b[1m100/100\u001b[0m \u001b[32m━━━━━━━━━━━━━━━━━━━━\u001b[0m\u001b[37m\u001b[0m \u001b[1m6s\u001b[0m 58ms/step - accuracy: 0.9954 - loss: 0.0184 - val_accuracy: 1.0000 - val_loss: 0.0295\n",
            "Epoch 19/20\n",
            "\u001b[1m 99/100\u001b[0m \u001b[32m━━━━━━━━━━━━━━━━━━━\u001b[0m\u001b[37m━\u001b[0m \u001b[1m0s\u001b[0m 59ms/step - accuracy: 0.9960 - loss: 0.0178\n",
            "Epoch 19: val_loss did not improve from 0.00735\n",
            "\u001b[1m100/100\u001b[0m \u001b[32m━━━━━━━━━━━━━━━━━━━━\u001b[0m\u001b[37m\u001b[0m \u001b[1m10s\u001b[0m 59ms/step - accuracy: 0.9960 - loss: 0.0178 - val_accuracy: 1.0000 - val_loss: 0.0093\n",
            "Epoch 20/20\n",
            "\u001b[1m 99/100\u001b[0m \u001b[32m━━━━━━━━━━━━━━━━━━━\u001b[0m\u001b[37m━\u001b[0m \u001b[1m0s\u001b[0m 60ms/step - accuracy: 0.9953 - loss: 0.0107\n",
            "Epoch 20: val_loss did not improve from 0.00735\n",
            "\u001b[1m100/100\u001b[0m \u001b[32m━━━━━━━━━━━━━━━━━━━━\u001b[0m\u001b[37m\u001b[0m \u001b[1m6s\u001b[0m 60ms/step - accuracy: 0.9953 - loss: 0.0108 - val_accuracy: 0.9375 - val_loss: 0.1062\n",
            "Classification model saved.\n"
          ]
        }
      ]
    },
    {
      "cell_type": "markdown",
      "source": [
        "#13. Evaluate Model"
      ],
      "metadata": {
        "id": "HfzJSH_nmhTQ"
      }
    },
    {
      "cell_type": "code",
      "source": [
        "# Evaluate on test set\n",
        "test_loss, test_acc = classification_model.evaluate(X_test, y_test, verbose=2)\n",
        "print(f\"Test accuracy: {test_acc:.4f}\")\n"
      ],
      "metadata": {
        "id": "62QGa5KBmj54",
        "colab": {
          "base_uri": "https://localhost:8080/"
        },
        "outputId": "163ffd6b-387f-4443-f66a-f6bd4f6c86ca"
      },
      "execution_count": 48,
      "outputs": [
        {
          "output_type": "stream",
          "name": "stdout",
          "text": [
            "20/20 - 2s - 102ms/step - accuracy: 0.7644 - loss: 2.1203\n",
            "Test accuracy: 0.7644\n"
          ]
        }
      ]
    },
    {
      "cell_type": "markdown",
      "source": [
        "#Test the Classification Model on New Images"
      ],
      "metadata": {
        "id": "gDxGLI_dmmQy"
      }
    },
    {
      "cell_type": "markdown",
      "source": [
        "##Load Models"
      ],
      "metadata": {
        "id": "AW3r2ctEmo5A"
      }
    },
    {
      "cell_type": "code",
      "source": [
        "# Load the classification model\n",
        "classification_model = tf.keras.models.load_model('/content/classification_best_model.keras')\n",
        "\n",
        "# Load the label encoder\n",
        "with open('label_encoder.pkl', 'rb') as f:\n",
        "    label_encoder = pickle.load(f)\n",
        "\n",
        "# Load the DnCNN model\n",
        "dncnn_model = DnCNN(channels=1, num_of_layers=17).to(device)\n",
        "dncnn_model.load_state_dict(torch.load('dncnn_trained.pth', map_location=device))\n",
        "dncnn_model.eval()\n",
        "print(\"Models loaded.\")\n"
      ],
      "metadata": {
        "id": "sIDlrZvQmnNG",
        "colab": {
          "base_uri": "https://localhost:8080/"
        },
        "outputId": "c0113143-bfae-4265-c779-e7fc89d6bcdd"
      },
      "execution_count": 49,
      "outputs": [
        {
          "output_type": "stream",
          "name": "stdout",
          "text": [
            "Models loaded.\n"
          ]
        },
        {
          "output_type": "stream",
          "name": "stderr",
          "text": [
            "<ipython-input-49-af133ec8bf29>:10: FutureWarning: You are using `torch.load` with `weights_only=False` (the current default value), which uses the default pickle module implicitly. It is possible to construct malicious pickle data which will execute arbitrary code during unpickling (See https://github.com/pytorch/pytorch/blob/main/SECURITY.md#untrusted-models for more details). In a future release, the default value for `weights_only` will be flipped to `True`. This limits the functions that could be executed during unpickling. Arbitrary objects will no longer be allowed to be loaded via this mode unless they are explicitly allowlisted by the user via `torch.serialization.add_safe_globals`. We recommend you start setting `weights_only=True` for any use case where you don't have full control of the loaded file. Please open an issue on GitHub for any issues related to this experimental feature.\n",
            "  dncnn_model.load_state_dict(torch.load('dncnn_trained.pth', map_location=device))\n"
          ]
        }
      ]
    },
    {
      "cell_type": "markdown",
      "source": [
        "##Predict Function"
      ],
      "metadata": {
        "id": "ojYglTKrmstH"
      }
    },
    {
      "cell_type": "code",
      "source": [
        "# Function to preprocess and denoise a new image\n",
        "def preprocess_and_denoise_image(image_path, dncnn_model, device):\n",
        "    # Load and preprocess image\n",
        "    image = cv2.imread(image_path, cv2.IMREAD_GRAYSCALE)\n",
        "    image = cv2.resize(image, image_size)\n",
        "    original_image = image.astype('float32')\n",
        "    noisy_image = train_dataset.add_gaussian_noise(original_image)\n",
        "    noisy_image = noisy_image / 255.0\n",
        "    noisy_image_tensor = torch.from_numpy(noisy_image).unsqueeze(0).unsqueeze(0).to(device)\n",
        "\n",
        "    # Denoise image\n",
        "    dncnn_model.eval()\n",
        "    with torch.no_grad():\n",
        "        denoised_tensor = dncnn_model(noisy_image_tensor)\n",
        "    denoised_image = denoised_tensor.squeeze().cpu().numpy() * 255.0\n",
        "    denoised_image = np.clip(denoised_image, 0, 255).astype(np.uint8)\n",
        "\n",
        "    # Prepare image for classification model\n",
        "    denoised_image = denoised_image / 255.0\n",
        "    denoised_image = denoised_image.reshape(1, image_size[0], image_size[1], 1)\n",
        "\n",
        "    return denoised_image\n",
        "\n",
        "# Predict function\n",
        "def predict_image_class(image_path):\n",
        "    denoised_image = preprocess_and_denoise_image(image_path, dncnn_model, device)\n",
        "    predictions = classification_model.predict(denoised_image)\n",
        "    predicted_class_index = np.argmax(predictions, axis=1)\n",
        "    predicted_label = label_encoder.inverse_transform(predicted_class_index)\n",
        "    return predicted_label[0]\n"
      ],
      "metadata": {
        "id": "wnYfLTM5mvum"
      },
      "execution_count": 50,
      "outputs": []
    },
    {
      "cell_type": "markdown",
      "source": [
        "##Example Usage"
      ],
      "metadata": {
        "id": "aCOYU9wQm0Za"
      }
    },
    {
      "cell_type": "code",
      "source": [
        "# Example usage\n",
        "# Replace 'path_to_new_chest_xray_image.png' with the path to your test image\n",
        "image_path = '/content/train_denoised/label_PNEUMONIA/image_1002.png'  # Example path\n",
        "predicted_label = predict_image_class(image_path)\n",
        "print(f\"The predicted class is: {predicted_label}\")\n"
      ],
      "metadata": {
        "id": "hw_FFPHfm1Y4",
        "colab": {
          "base_uri": "https://localhost:8080/"
        },
        "outputId": "ce306d0d-23fb-45f7-b5e0-18928f0d0af3"
      },
      "execution_count": 52,
      "outputs": [
        {
          "output_type": "stream",
          "name": "stdout",
          "text": [
            "\u001b[1m1/1\u001b[0m \u001b[32m━━━━━━━━━━━━━━━━━━━━\u001b[0m\u001b[37m\u001b[0m \u001b[1m0s\u001b[0m 16ms/step\n",
            "The predicted class is: PNEUMONIA\n"
          ]
        }
      ]
    },
    {
      "cell_type": "code",
      "source": [],
      "metadata": {
        "id": "gnVq0oab15ky"
      },
      "execution_count": null,
      "outputs": []
    }
  ]
}